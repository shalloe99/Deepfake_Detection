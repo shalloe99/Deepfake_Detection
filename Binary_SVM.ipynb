{
 "cells": [
  {
   "cell_type": "code",
   "execution_count": null,
   "metadata": {},
   "outputs": [],
   "source": [
    "import cv2, numpy as np, os, radialProfile, glob, pickle\n",
    "from matplotlib import pyplot as plt\n",
    "from scipy.interpolate import griddata\n",
    "from sklearn.svm import SVC"
   ]
  },
  {
   "cell_type": "code",
   "execution_count": null,
   "metadata": {},
   "outputs": [],
   "source": [
    "\"\"\"\n",
    "    So far, there are 3 options:\n",
    "        - 'deepfake'\n",
    "        - 'face2face'\n",
    "        - 'faceswap'\n",
    "\"\"\"\n",
    "\n",
    "generator = \"faceswap\""
   ]
  },
  {
   "cell_type": "code",
   "execution_count": null,
   "metadata": {},
   "outputs": [],
   "source": [
    "epsilon = 500\n",
    "train_pickle =\"data/pickled_data/train_\"+generator+\"_10k_\"+str(epsilon)+\".pkl\"\n",
    "test_pickle = \"data/pickled_data/test_\"+generator+\"_2k_\"+str(epsilon)+\".pkl\""
   ]
  },
  {
   "cell_type": "markdown",
   "metadata": {},
   "source": [
    "### Load / check features on graph"
   ]
  },
  {
   "cell_type": "code",
   "execution_count": null,
   "metadata": {},
   "outputs": [],
   "source": [
    "# load feature file\n",
    "pkl_file = open(train_pickle, 'rb')\n",
    "data = pickle.load(pkl_file)\n",
    "pkl_file.close()\n",
    "X = data[\"data\"]\n",
    "y = data[\"label\"]"
   ]
  },
  {
   "cell_type": "code",
   "execution_count": null,
   "metadata": {
    "scrolled": true
   },
   "outputs": [],
   "source": [
    "plt.plot(y)"
   ]
  },
  {
   "cell_type": "markdown",
   "metadata": {},
   "source": [
    "### Check Spectrum\n",
    "(I'm on the spectrum lmao)"
   ]
  },
  {
   "cell_type": "code",
   "execution_count": null,
   "metadata": {},
   "outputs": [],
   "source": [
    "num = int(X.shape[0]/2)\n",
    "num_feat = X.shape[1]\n",
    "\n",
    "psd1D_org_0 = np.zeros((num,num_feat))\n",
    "psd1D_org_1 = np.zeros((num,num_feat))\n",
    "psd1D_org_0_mean = np.zeros(num_feat)\n",
    "psd1D_org_0_std = np.zeros(num_feat)\n",
    "psd1D_org_1_mean = np.zeros(num_feat)\n",
    "psd1D_org_1_std = np.zeros(num_feat)\n",
    "\n",
    "cont_0=0\n",
    "cont_1=0\n",
    "\n",
    "# We separate real and fake using the label\n",
    "for x in range(X.shape[0]):\n",
    "    if y[x]==0:\n",
    "        psd1D_org_0[cont_0,:] = X[x,:]\n",
    "        cont_0+=1\n",
    "    elif y[x]==1:\n",
    "        psd1D_org_1[cont_1,:] = X[x,:]\n",
    "        cont_1+=1\n",
    "\n",
    "# We compute statistcis\n",
    "for x in range(num_feat):\n",
    "    psd1D_org_0_mean[x] = np.mean(psd1D_org_0[:,x])\n",
    "    psd1D_org_0_std[x]= np.std(psd1D_org_0[:,x])\n",
    "    psd1D_org_1_mean[x] = np.mean(psd1D_org_1[:,x])\n",
    "    psd1D_org_1_std[x]= np.std(psd1D_org_1[:,x])\n",
    "    \n",
    "# Plot\n",
    "x = np.arange(0, num_feat, 1)\n",
    "fig, ax = plt.subplots(figsize=(15, 9))\n",
    "ax.plot(x, psd1D_org_0_mean, alpha=0.5, color='red', label='Fake', linewidth =2.0)\n",
    "ax.fill_between(x, psd1D_org_0_mean - psd1D_org_0_std, psd1D_org_0_mean + psd1D_org_0_std, color='red', alpha=0.2)\n",
    "ax.plot(x, psd1D_org_1_mean, alpha=0.5, color='blue', label='Real', linewidth =2.0)\n",
    "ax.fill_between(x, psd1D_org_1_mean - psd1D_org_1_std, psd1D_org_1_mean + psd1D_org_1_std, color='blue', alpha=0.2)\n",
    "plt.tick_params(axis='x', labelsize=20)\n",
    "plt.tick_params(axis='y', labelsize=20)\n",
    "ax.legend(loc='best', prop={'size': 20})\n",
    "plt.xlabel(\"Spatial Frequency\", fontsize=20)\n",
    "plt.ylabel(\"Power Spectrum\", fontsize=20)"
   ]
  },
  {
   "cell_type": "markdown",
   "metadata": {},
   "source": [
    "### Training SVM"
   ]
  },
  {
   "cell_type": "code",
   "execution_count": null,
   "metadata": {},
   "outputs": [],
   "source": [
    "#Hyperameters\n",
    "C_val=6.37\n",
    "gamma_val = 0.86\n",
    "\n",
    "#train\n",
    "pkl_file = open(train_pickle, 'rb')\n",
    "data = pickle.load(pkl_file)\n",
    "pkl_file.close()\n",
    "X = data[\"data\"]\n",
    "y = data[\"label\"]\n",
    "\n",
    "svclassifier_r = SVC(C=C_val, kernel='rbf', gamma=gamma_val)\n",
    "svclassifier_r.fit(X, y)\n",
    "\n",
    "pickle_svm_file = \"data/pickled_classifiers/\"+generator+\"SVM_ep\" + str(epsilon) + \"_C\" + str(C_val) + \"_gam\" + str(gamma_val) + \".pkl\"\n",
    "output = open(pickle_svm_file, \"wb+\")\n",
    "pickle.dump(svclassifier_r, output)\n",
    "output.close()"
   ]
  },
  {
   "cell_type": "markdown",
   "metadata": {},
   "source": [
    "### Testing SVM"
   ]
  },
  {
   "cell_type": "code",
   "execution_count": null,
   "metadata": {},
   "outputs": [],
   "source": [
    "#test\n",
    "pkl_file = open(test_pickle, 'rb')\n",
    "data = pickle.load(pkl_file)\n",
    "pkl_file.close()\n",
    "X_ = data[\"data\"]\n",
    "y_ = data[\"label\"]\n",
    "\n",
    "SVM = svclassifier_r.score(X_, y_)\n",
    "print(\"SVM: \"+str(SVM))"
   ]
  }
 ],
 "metadata": {
  "kernelspec": {
   "display_name": "Python 3",
   "language": "python",
   "name": "python3"
  },
  "language_info": {
   "codemirror_mode": {
    "name": "ipython",
    "version": 3
   },
   "file_extension": ".py",
   "mimetype": "text/x-python",
   "name": "python",
   "nbconvert_exporter": "python",
   "pygments_lexer": "ipython3",
   "version": "3.7.6-final"
  }
 },
 "nbformat": 4,
 "nbformat_minor": 2
}