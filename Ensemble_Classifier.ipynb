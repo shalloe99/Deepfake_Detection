{
 "cells": [
  {
   "cell_type": "code",
   "execution_count": 1,
   "metadata": {},
   "outputs": [],
   "source": [
    "import cv2, numpy as np, os, radialProfile, glob, pickle\n",
    "from matplotlib import pyplot as plt\n",
    "from scipy.interpolate import griddata\n",
    "from sklearn.svm import SVC\n",
    "from create_features import ezdata"
   ]
  },
  {
   "cell_type": "code",
   "execution_count": 4,
   "metadata": {},
   "outputs": [],
   "source": [
    "test_files = [\n",
    "    \"data/test/deepfake\",   # class 0\n",
    "    \"data/test/face2face\",  # class 1\n",
    "    \"data/test/faceswap\",   # class 2\n",
    "    \"data/test/original\"    # class 3\n",
    "]\n",
    "\n",
    "pickle_out = \"data/emsemble_test_2k.pkl\"\n",
    "\n",
    "ezdata(2000, test_files, pickle_out, epsilon=10)"
   ]
  },
  {
   "cell_type": "markdown",
   "metadata": {},
   "source": [
    "# Load in classifiers\n",
    "IMPORTANT! The index number matches the class number when the multiclass SVM was trained."
   ]
  },
  {
   "cell_type": "code",
   "execution_count": 2,
   "metadata": {},
   "outputs": [],
   "source": [
    "classifiers = []\n",
    "\n",
    "# loads classifiers - deepfake [0]\n",
    "pkl_temp = open(\"data/pickled_classifiers/deepfakeSVM_ep500_C6.37_gam0.86.pkl\", 'rb')\n",
    "temp = pickle.load(pkl_temp)\n",
    "classifiers.append(temp)\n",
    "pkl_temp.close()\n",
    "\n",
    "# loads classifiers - face2face [1]\n",
    "pkl_temp = open(\"data/pickled_classifiers/face2faceSVM_ep500_C6.37_gam0.86.pkl\", 'rb')\n",
    "temp = pickle.load(pkl_temp)\n",
    "classifiers.append(temp)\n",
    "pkl_temp.close()\n",
    "\n",
    "# loads classifiers - faceswap [2]\n",
    "pkl_temp = open(\"data/pickled_classifiers/faceswapSVM_ep500_C6.37_gam0.86.pkl\", 'rb')\n",
    "temp = pickle.load(pkl_temp)\n",
    "classifiers.append(temp)\n",
    "pkl_temp.close()\n",
    "\n",
    "# loads in the multiclass classifier\n",
    "pkl_temp = open(\"data/pickled_classifiers/multiclass_SVM_C6.37_gam0.86.pkl\", 'rb')\n",
    "multiSVM = pickle.load(pkl_temp)\n",
    "pkl_temp.close()"
   ]
  },
  {
   "cell_type": "markdown",
   "metadata": {},
   "source": [
    "# Load in Testing Data"
   ]
  },
  {
   "cell_type": "code",
   "execution_count": 11,
   "metadata": {},
   "outputs": [],
   "source": [
    "pkl_temp = open(\"data/emsemble_test_2k.pkl\", 'rb')\n",
    "data = pickle.load(pkl_temp)\n",
    "pkl_temp.close()\n",
    "X = data[\"data\"]\n",
    "Y = data[\"label\"]"
   ]
  },
  {
   "cell_type": "markdown",
   "metadata": {},
   "source": [
    "# Classification: generating seperate predictions initially"
   ]
  },
  {
   "cell_type": "code",
   "execution_count": 12,
   "metadata": {},
   "outputs": [],
   "source": [
    "multi_weights = multiSVM.predict_proba(X)\n",
    "pickle_file = open(\"data/final_testing_matrices/multiclass_weights.pkl\", 'wb')\n",
    "pickle.dump(multi_weights, pickle_file)\n",
    "pickle_file.close()"
   ]
  },
  {
   "cell_type": "code",
   "execution_count": 30,
   "metadata": {},
   "outputs": [],
   "source": [
    "# binary classifiers\n",
    "# 0: deepfake\n",
    "# 1: face2face\n",
    "# 2: faceswap\n",
    "import random\n",
    "pred = []\n",
    "for i in range(len(classifiers)):\n",
    "    tempClassify = classifiers[i].predict(X)\n",
    "    pred.append(tempClassify)\n",
    "pred = np.transpose(pred)\n",
    "# 0 = fake\n",
    "# 1 = real\n",
    "pickle_file = open(\"data/final_testing_matrices/binary_preds.pkl\", 'wb')\n",
    "pickle.dump(pred, pickle_file)\n",
    "pickle_file.close()"
   ]
  },
  {
   "cell_type": "markdown",
   "metadata": {},
   "source": [
    "# Augmenting individual preds with weight"
   ]
  },
  {
   "cell_type": "code",
   "execution_count": 31,
   "metadata": {},
   "outputs": [],
   "source": [
    "pkl_temp = open(\"data/final_testing_matrices/multiclass_weights.pkl\", 'rb')\n",
    "multiclass_weights = pickle.load(pkl_temp)\n",
    "pkl_temp.close()\n",
    "\n",
    "pkl_temp = open(\"data/final_testing_matrices/binary_preds.pkl\", 'rb')\n",
    "binary_preds = pickle.load(pkl_temp)\n",
    "pkl_temp.close()"
   ]
  },
  {
   "cell_type": "code",
   "execution_count": 36,
   "metadata": {},
   "outputs": [],
   "source": [
    "final_preds = []\n",
    "for i in range(binary_preds.shape[0]):\n",
    "    pred_f = 0\n",
    "    for j in range(binary_preds.shape[1]):\n",
    "        pred_f += (binary_preds[i][j] * multiclass_weights[i][j])\n",
    "    # if < 0.5, fake.\n",
    "    final_preds.append(round(pred_f))\n",
    "final_preds = np.transpose(final_preds)"
   ]
  },
  {
   "cell_type": "markdown",
   "metadata": {},
   "source": [
    "# Scoring\n",
    "## Checking how many true positives (correctly found fakes) there were"
   ]
  },
  {
   "cell_type": "code",
   "execution_count": 50,
   "metadata": {},
   "outputs": [
    {
     "output_type": "stream",
     "name": "stdout",
     "text": "0.8785\n"
    }
   ],
   "source": [
    "fakeList = final_preds[:6000].tolist()\n",
    "truePos = fakeList.count(0)\n",
    "print((truePos)/6000)"
   ]
  },
  {
   "cell_type": "markdown",
   "metadata": {},
   "source": [
    "## False negatives."
   ]
  },
  {
   "cell_type": "code",
   "execution_count": 56,
   "metadata": {},
   "outputs": [
    {
     "output_type": "stream",
     "name": "stdout",
     "text": "0.12566666666666668\n"
    }
   ],
   "source": [
    "falseNeg = fakeList.count(1)\n",
    "print((falseNeg)/6000)"
   ]
  }
 ],
 "metadata": {
  "language_info": {
   "codemirror_mode": {
    "name": "ipython",
    "version": 3
   },
   "file_extension": ".py",
   "mimetype": "text/x-python",
   "name": "python",
   "nbconvert_exporter": "python",
   "pygments_lexer": "ipython3",
   "version": "3.7.6-final"
  },
  "orig_nbformat": 2,
  "kernelspec": {
   "name": "python3",
   "display_name": "Python 3"
  }
 },
 "nbformat": 4,
 "nbformat_minor": 2
}