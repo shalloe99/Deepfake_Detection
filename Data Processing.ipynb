{
 "cells": [
  {
   "cell_type": "code",
   "execution_count": 1,
   "metadata": {},
   "outputs": [],
   "source": [
    "import cv2, numpy as np, os, radialProfile, glob, pickle\n",
    "from matplotlib import pyplot as plt\n",
    "from scipy.interpolate import griddata\n",
    "from sklearn.svm import SVC\n",
    "from sklearn.linear_model import LogisticRegression\n",
    "from create_features import loadData"
   ]
  },
  {
   "cell_type": "markdown",
   "metadata": {},
   "source": [
    "# Create features for training"
   ]
  },
  {
   "cell_type": "code",
   "execution_count": 2,
   "metadata": {},
   "outputs": [],
   "source": [
    "start_ep = 100\n",
    "end_ep = 1000\n",
    "step = 100\n",
    "\n",
    "\"\"\"\n",
    "    So far, there are 3 options:\n",
    "        - 'deepfake'\n",
    "        - 'face2face'\n",
    "        - 'faceswap'\n",
    "\"\"\"\n",
    "generator = \"faceswap\""
   ]
  },
  {
   "cell_type": "code",
   "execution_count": 3,
   "metadata": {},
   "outputs": [
    {
     "output_type": "stream",
     "name": "stdout",
     "text": "Done! with epsilon 100\nDone! with epsilon 200\nDone! with epsilon 300\nDone! with epsilon 400\nDone! with epsilon 500\nDone! with epsilon 600\nDone! with epsilon 700\nDone! with epsilon 800\nDone! with epsilon 900\nDone! with epsilon 1000\n"
    }
   ],
   "source": [
    "real_folder = \"data/train/original\"\n",
    "# fake_folder = \"data/train/deepfake\"\n",
    "fake_folder = \"data/train/\" + generator\n",
    "\n",
    "# tries episilon 100 - 1000\n",
    "for i in range(start_ep, end_ep+1, step):\n",
    "    out = \"data/pickled_data/train_\"+ generator + \"_10k_\" + str(i) +\".pkl\"\n",
    "    loadData(10000, real_folder, fake_folder, out, epsilon=i)\n",
    "    print(\"Done! with epsilon\", str(i))"
   ]
  },
  {
   "cell_type": "markdown",
   "metadata": {},
   "source": [
    "# Create features for testing/validation"
   ]
  },
  {
   "cell_type": "code",
   "execution_count": 4,
   "metadata": {},
   "outputs": [
    {
     "output_type": "stream",
     "name": "stdout",
     "text": "Done! with epsilon 100\nDone! with epsilon 200\nDone! with epsilon 300\nDone! with epsilon 400\nDone! with epsilon 500\nDone! with epsilon 600\nDone! with epsilon 700\nDone! with epsilon 800\nDone! with epsilon 900\nDone! with epsilon 1000\n"
    }
   ],
   "source": [
    "real_folder = \"data/test/original\"\n",
    "# fake_folder = \"data/test/deepfake\"\n",
    "fake_folder = \"data/test/\" + generator\n",
    "\n",
    "# tries episolon 100 - 1000\n",
    "for i in range(start_ep, end_ep+1, step):\n",
    "    out = \"data/pickled_data/test_\"+ generator + \"_2k_\" + str(i) +\".pkl\"\n",
    "    loadData(2000, real_folder, fake_folder, out, epsilon=i)\n",
    "    print(\"Done! with epsilon\", str(i))"
   ]
  }
 ],
 "metadata": {
  "kernelspec": {
   "display_name": "Python 3",
   "language": "python",
   "name": "python3"
  },
  "language_info": {
   "codemirror_mode": {
    "name": "ipython",
    "version": 3
   },
   "file_extension": ".py",
   "mimetype": "text/x-python",
   "name": "python",
   "nbconvert_exporter": "python",
   "pygments_lexer": "ipython3",
   "version": "3.7.6-final"
  }
 },
 "nbformat": 4,
 "nbformat_minor": 2
}